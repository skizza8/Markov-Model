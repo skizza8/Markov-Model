{
 "cells": [
  {
   "cell_type": "code",
   "execution_count": 1,
   "metadata": {},
   "outputs": [],
   "source": [
    "import numpy as np\n",
    "from hmmlearn import hmm"
   ]
  },
  {
   "cell_type": "code",
   "execution_count": 2,
   "metadata": {},
   "outputs": [
    {
     "name": "stdout",
     "output_type": "stream",
     "text": [
      "Generated Observation Sequence (Encoded): [2 0 2 1 2 1 2 2 1 2]\n",
      "Generated Hidden State Sequence: [0 0 0 0 0 0 0 0 0 0]\n",
      "Decoded Hidden State Sequence: [0 1 0 0 0 0 0 0 0 0]\n"
     ]
    }
   ],
   "source": [
    "# Define Model Parameters\n",
    "states = [\"Rainy\", \"Sunny\"]  # Hidden states\n",
    "observations = [\"Walk\", \"Shop\", \"Clean\"]  # Observable events\n",
    "\n",
    "n_states = len(states)\n",
    "n_observations = len(observations)\n",
    "\n",
    "# Transition probabilities (A)\n",
    "transition_probs = np.array([\n",
    "    [0.7, 0.3],  # Probabilities from Rainy -> [Rainy, Sunny]\n",
    "    [0.4, 0.6]   # Probabilities from Sunny -> [Rainy, Sunny]\n",
    "])\n",
    "\n",
    "# Emission probabilities (B)\n",
    "emission_probs = np.array([\n",
    "    [0.1, 0.4, 0.5],  # Probabilities from Rainy -> [Walk, Shop, Clean]\n",
    "    [0.6, 0.3, 0.1]   # Probabilities from Sunny -> [Walk, Shop, Clean]\n",
    "])\n",
    "\n",
    "# Initial state probabilities (π)\n",
    "start_probs = np.array([0.6, 0.4])  # Probabilities for starting in [Rainy, Sunny]\n",
    "\n",
    "# Create an HMM model\n",
    "model = hmm.CategoricalHMM(n_components=n_states)\n",
    "model.startprob_ = start_probs\n",
    "model.transmat_ = transition_probs\n",
    "model.emissionprob_ = emission_probs\n",
    "\n",
    "# Sample a sequence of observations from the model\n",
    "num_samples = 10\n",
    "observations_seq, hidden_states_seq = model.sample(num_samples)\n",
    "\n",
    "print(\"Generated Observation Sequence (Encoded):\", observations_seq.flatten())\n",
    "print(\"Generated Hidden State Sequence:\", hidden_states_seq)\n",
    "\n",
    "# Decode the most likely hidden state sequence using Viterbi Algorithm\n",
    "logprob, decoded_states = model.decode(observations_seq, algorithm=\"viterbi\")\n",
    "print(\"Decoded Hidden State Sequence:\", decoded_states)\n"
   ]
  },
  {
   "cell_type": "code",
   "execution_count": 3,
   "metadata": {},
   "outputs": [
    {
     "name": "stdout",
     "output_type": "stream",
     "text": [
      "Learned Transition Matrix (A):\n",
      " [[7.52644183e-01 2.47355817e-01]\n",
      " [9.99657744e-01 3.42255731e-04]]\n",
      "Learned Emission Matrix (B):\n",
      " [[2.75824506e-01 4.01348274e-01 3.22827220e-01]\n",
      " [5.58064013e-01 6.15012836e-06 4.41929837e-01]]\n",
      "Learned Start Probabilities (π):\n",
      " [0.00465273 0.99534727]\n",
      "\n",
      "Predicted Hidden States for New Observations: [1 0 0 0 0]\n"
     ]
    }
   ],
   "source": [
    "# Define observations (encoded as numbers)\n",
    "observation_dict = {\"Walk\": 0, \"Shop\": 1, \"Clean\": 2}\n",
    "observations = np.array([\n",
    "    [0, 1, 2, 0, 0, 2, 1],  # Sequence 1 (Walk, Shop, Clean, Walk, Walk, Clean, Shop)\n",
    "    [2, 2, 1, 0, 1, 2, 0],  # Sequence 2 (Clean, Clean, Shop, Walk, Shop, Clean, Walk)\n",
    "]) \n",
    "\n",
    "lengths = [len(seq) for seq in observations]  # Length of each sequence\n",
    "observations = np.concatenate(observations).reshape(-1, 1)  # Flatten observations\n",
    "\n",
    "# Create and train an HMM\n",
    "model = hmm.CategoricalHMM(n_components=2, n_iter=100, random_state=42)\n",
    "model.fit(observations, lengths)\n",
    "\n",
    "# Print learned parameters\n",
    "print(\"Learned Transition Matrix (A):\\n\", model.transmat_)\n",
    "print(\"Learned Emission Matrix (B):\\n\", model.emissionprob_)\n",
    "print(\"Learned Start Probabilities (π):\\n\", model.startprob_)\n",
    "\n",
    "# Predict hidden states for a new observation sequence\n",
    "new_observations = np.array([[0], [1], [2], [0], [1]])  # (Walk, Shop, Clean, Walk, Shop)\n",
    "logprob, predicted_states = model.decode(new_observations, algorithm=\"viterbi\")\n",
    "\n",
    "print(\"\\nPredicted Hidden States for New Observations:\", predicted_states)"
   ]
  }
 ],
 "metadata": {
  "kernelspec": {
   "display_name": "Python 3",
   "language": "python",
   "name": "python3"
  },
  "language_info": {
   "codemirror_mode": {
    "name": "ipython",
    "version": 3
   },
   "file_extension": ".py",
   "mimetype": "text/x-python",
   "name": "python",
   "nbconvert_exporter": "python",
   "pygments_lexer": "ipython3",
   "version": "3.12.7"
  }
 },
 "nbformat": 4,
 "nbformat_minor": 2
}
