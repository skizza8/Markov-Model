{
 "cells": [
  {
   "cell_type": "code",
   "execution_count": 1,
   "metadata": {},
   "outputs": [],
   "source": [
    "import pandas as pd\n",
    "import numpy as np\n",
    "from hmmlearn import hmm\n",
    "from sklearn.preprocessing import LabelEncoder, StandardScaler\n",
    "from itertools import groupby"
   ]
  },
  {
   "cell_type": "code",
   "execution_count": 2,
   "metadata": {},
   "outputs": [],
   "source": [
    "# Step 1: Load the dataset\n",
    "df = pd.read_excel(\"Data (7).xlsx\")"
   ]
  },
  {
   "cell_type": "code",
   "execution_count": 3,
   "metadata": {},
   "outputs": [],
   "source": [
    "# Encode KeyPressed into numerical values\n",
    "label_encoder = LabelEncoder()\n",
    "df['KeyEncoded'] = label_encoder.fit_transform(df['KeyPressed'])"
   ]
  },
  {
   "cell_type": "code",
   "execution_count": 4,
   "metadata": {},
   "outputs": [],
   "source": [
    "# Select timing features\n",
    "features = ['FlightTime', 'KeyHoldTime']\n",
    "df[features] = df[features].fillna(0)  # Handle missing values\n",
    "scaler = StandardScaler()\n",
    "df[features] = scaler.fit_transform(df[features])"
   ]
  },
  {
   "cell_type": "code",
   "execution_count": 8,
   "metadata": {},
   "outputs": [],
   "source": [
    "\n",
    "\n",
    "# Function to train HMM per user and extract features\n",
    "def train_hmm_per_user(user_df):\n",
    "    user_df = user_df.copy()  # Ensure a new copy is modified\n",
    "    X = user_df[['KeyEncoded'] + features].values\n",
    "    lengths = [len(X)]\n",
    "    \n",
    "    hmm_model = hmm.GaussianHMM(n_components=4, covariance_type=\"diag\", n_iter=1000, random_state=42)\n",
    "    hmm_model.fit(X, lengths)\n",
    "    \n",
    "    log_likelihood = hmm_model.score(X)\n",
    "    hidden_states = hmm_model.predict(X)\n",
    "    \n",
    "    user_df['HMM_LogLikelihood_PerUser'] = log_likelihood\n",
    "    user_df['HMM_HiddenState'] = hidden_states\n",
    "    \n",
    "    # Calculate state transition counts\n",
    "    transitions = np.bincount(hidden_states[:-1] * 4 + hidden_states[1:], minlength=16)\n",
    "    user_df['HMM_HiddenState_TransitionCount'] = sum(transitions > 0)\n",
    "    \n",
    "    # Calculate state duration\n",
    "    state_durations = [sum(1 for _ in group) for key, group in groupby(hidden_states)]\n",
    "    user_df['HMM_HiddenState_Duration'] = np.mean(state_durations) if state_durations else 0\n",
    "    \n",
    "    return user_df"
   ]
  },
  {
   "cell_type": "code",
   "execution_count": 9,
   "metadata": {},
   "outputs": [
    {
     "name": "stderr",
     "output_type": "stream",
     "text": [
      "Model is not converging.  Current: 29072.22324471682 is not greater than 29072.43045491965. Delta is -0.20721020282871905\n",
      "Model is not converging.  Current: 16691.809582144895 is not greater than 16693.04972982081. Delta is -1.2401476759150682\n"
     ]
    }
   ],
   "source": [
    "# Process each group separately and concatenate results\n",
    "dfs = []\n",
    "for _, group in df.groupby('DeviceId'):\n",
    "    dfs.append(train_hmm_per_user(group))\n",
    "\n",
    "df = pd.concat(dfs).reset_index(drop=True)"
   ]
  },
  {
   "cell_type": "code",
   "execution_count": 10,
   "metadata": {},
   "outputs": [],
   "source": [
    "# Additional derived features\n",
    "df['TypingSpeed'] = 1 / (df['FlightTime'].replace(0, np.nan))\n",
    "df['KeySequenceChangeRate'] = df['HMM_HiddenState_TransitionCount'] / df.groupby('DeviceId')['HMM_HiddenState_TransitionCount'].transform('sum')\n",
    "\n",
    "df['InterKeyInterval_Mean'] = df.groupby('DeviceId')['FlightTime'].transform('mean')\n",
    "df['InterKeyInterval_Std'] = df.groupby('DeviceId')['FlightTime'].transform('std')\n",
    "df['Burstiness'] = df.groupby('DeviceId')['FlightTime'].transform(lambda x: (x.std() - x.mean()) / (x.std() + x.mean()))\n",
    "\n",
    "df['TransitionEntropy'] = df.groupby('DeviceId')['HMM_HiddenState'].transform(lambda x: -np.sum(np.bincount(x, minlength=4) / len(x) * np.log2(np.bincount(x, minlength=4) / len(x))))\n",
    "df['DominantHiddenState'] = df.groupby('DeviceId')['HMM_HiddenState'].transform(lambda x: np.bincount(x).argmax())\n",
    "\n",
    "df['TimeSinceLastKeyPress'] = df.groupby('DeviceId')['FlightTime'].transform(lambda x: x.shift(1).fillna(0).cumsum())\n",
    "df['AvgSessionLength'] = df.groupby('DeviceId')['FlightTime'].transform(lambda x: (x > 2 * x.mean()).cumsum().value_counts().mean())\n"
   ]
  },
  {
   "cell_type": "code",
   "execution_count": 11,
   "metadata": {},
   "outputs": [
    {
     "name": "stdout",
     "output_type": "stream",
     "text": [
      "Feature extraction complete. Saved to enhanced_dataset.csv\n"
     ]
    }
   ],
   "source": [
    "# Save enhanced dataset\n",
    "df.to_csv(\"enhanced_dataset.csv\", index=False)\n",
    "print(\"Feature extraction complete. Saved to enhanced_dataset.csv\")"
   ]
  },
  {
   "cell_type": "markdown",
   "metadata": {},
   "source": [
    "# Data Dictionary\n",
    "\n",
    "## Original Columns\n",
    "\n",
    "| Column Name      | Description |\n",
    "|-----------------|-------------|\n",
    "| **DeviceId** | Unique identifier for each user/device. |\n",
    "| **KeyPressed** | The key that was pressed by the user. |\n",
    "| **FlightTime** | Time taken between releasing one key and pressing the next (milliseconds). |\n",
    "| **KeyHoldTime** | Duration for which a key is held down before release (milliseconds). |\n",
    "\n",
    "## Derived Columns\n",
    "\n",
    "| Column Name | Description |\n",
    "|-------------|-------------|\n",
    "| **KeyEncoded** | Encoded numerical representation of `KeyPressed` using Label Encoding. |\n",
    "| **HMM_LogLikelihood_PerUser** | Log-likelihood of the trained HMM model per user, representing how well the model fits the user’s typing pattern. |\n",
    "| **HMM_HiddenState** | Hidden state assigned to each keystroke based on the trained HMM model. |\n",
    "| **HMM_HiddenState_TransitionCount** | Number of transitions between hidden states, indicating typing variability. |\n",
    "| **HMM_HiddenState_Duration** | Average duration (number of keystrokes) spent in a given hidden state before transitioning. |\n",
    "| **TypingSpeed** | Estimated typing speed, computed as `1 / FlightTime`. (Higher values indicate faster typing.) |\n",
    "| **KeySequenceChangeRate** | Ratio of hidden state transitions to the total transitions per user, capturing consistency in typing patterns. |\n",
    "| **InterKeyInterval_Mean** | Mean time interval between consecutive keystrokes per user. |\n",
    "| **InterKeyInterval_Std** | Standard deviation of inter-key intervals, indicating typing rhythm variability. |\n",
    "| **Burstiness** | A measure of irregularity in typing speed, computed using `(std - mean) / (std + mean)`. |\n",
    "| **TransitionEntropy** | Shannon entropy of state transitions, measuring typing pattern complexity. |\n",
    "| **DominantHiddenState** | Most frequently occurring hidden state for each user, indicating the most common typing pattern. |\n",
    "| **TimeSinceLastKeyPress** | Cumulative time elapsed since the last key press per user. |\n",
    "| **AvgSessionLength** | Estimated session length based on typing pauses (breaks longer than twice the mean `FlightTime` are considered session boundaries). |\n",
    "\n"
   ]
  }
 ],
 "metadata": {
  "kernelspec": {
   "display_name": "Python 3",
   "language": "python",
   "name": "python3"
  },
  "language_info": {
   "codemirror_mode": {
    "name": "ipython",
    "version": 3
   },
   "file_extension": ".py",
   "mimetype": "text/x-python",
   "name": "python",
   "nbconvert_exporter": "python",
   "pygments_lexer": "ipython3",
   "version": "3.12.7"
  }
 },
 "nbformat": 4,
 "nbformat_minor": 2
}
