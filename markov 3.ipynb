{
 "cells": [
  {
   "cell_type": "code",
   "execution_count": 1,
   "metadata": {},
   "outputs": [],
   "source": [
    "import pandas as pd\n",
    "import numpy as np\n",
    "from hmmlearn import hmm\n",
    "from sklearn.preprocessing import LabelEncoder, StandardScaler\n",
    "from itertools import groupby"
   ]
  },
  {
   "cell_type": "code",
   "execution_count": 3,
   "metadata": {},
   "outputs": [],
   "source": [
    "# Step 1: Load the dataset\n",
    "df = pd.read_excel(\"Data (8).xlsx\")"
   ]
  },
  {
   "cell_type": "code",
   "execution_count": 4,
   "metadata": {},
   "outputs": [],
   "source": [
    "# Encode KeyPressed into numerical values\n",
    "label_encoder = LabelEncoder()\n",
    "df['KeyEncoded'] = label_encoder.fit_transform(df['KeyPressed'])"
   ]
  },
  {
   "cell_type": "code",
   "execution_count": 5,
   "metadata": {},
   "outputs": [],
   "source": [
    "# Select timing features\n",
    "features = ['FlightTime', 'KeyHoldTime']\n",
    "df[features] = df[features].fillna(0)  # Handle missing values\n",
    "scaler = StandardScaler()\n",
    "df[features] = scaler.fit_transform(df[features])"
   ]
  },
  {
   "cell_type": "code",
   "execution_count": 6,
   "metadata": {},
   "outputs": [],
   "source": [
    "\n",
    "\n",
    "# Function to train HMM per user and extract features\n",
    "def train_hmm_per_user(user_df):\n",
    "    user_df = user_df.copy()  # Ensure a new copy is modified\n",
    "    X = user_df[['KeyEncoded'] + features].values\n",
    "    lengths = [len(X)]\n",
    "    \n",
    "    hmm_model = hmm.GaussianHMM(n_components=4, covariance_type=\"diag\", n_iter=1000, random_state=42)\n",
    "    hmm_model.fit(X, lengths)\n",
    "    \n",
    "    log_likelihood = hmm_model.score(X)\n",
    "    hidden_states = hmm_model.predict(X)\n",
    "    \n",
    "    user_df['HMM_LogLikelihood_PerUser'] = log_likelihood\n",
    "    user_df['HMM_HiddenState'] = hidden_states\n",
    "    \n",
    "    # Calculate state transition counts\n",
    "    transitions = np.bincount(hidden_states[:-1] * 4 + hidden_states[1:], minlength=16)\n",
    "    user_df['HMM_HiddenState_TransitionCount'] = sum(transitions > 0)\n",
    "    \n",
    "    # Calculate state duration\n",
    "    state_durations = [sum(1 for _ in group) for key, group in groupby(hidden_states)]\n",
    "    user_df['HMM_HiddenState_Duration'] = np.mean(state_durations) if state_durations else 0\n",
    "    \n",
    "    return user_df"
   ]
  },
  {
   "cell_type": "code",
   "execution_count": 7,
   "metadata": {},
   "outputs": [
    {
     "name": "stderr",
     "output_type": "stream",
     "text": [
      "Model is not converging.  Current: 36697.19827242926 is not greater than 36697.21372707309. Delta is -0.015454643827979453\n",
      "Model is not converging.  Current: 450737.19373090955 is not greater than 450743.245630542. Delta is -6.051899632439017\n",
      "Model is not converging.  Current: 524987.4245966473 is not greater than 525063.6521197304. Delta is -76.2275230831001\n",
      "Model is not converging.  Current: 174272.10493719982 is not greater than 174299.68980059604. Delta is -27.58486339621595\n",
      "Model is not converging.  Current: 208.99705461648426 is not greater than 208.99707313683518. Delta is -1.85203509204257e-05\n",
      "Model is not converging.  Current: 58109.90030096987 is not greater than 58114.19282994525. Delta is -4.2925289753766265\n",
      "Model is not converging.  Current: 440.0153939696364 is not greater than 440.0388097038833. Delta is -0.023415734246896136\n",
      "Model is not converging.  Current: 150949.4032550576 is not greater than 150949.43715782193. Delta is -0.033902764320373535\n",
      "Model is not converging.  Current: 26218.90546578729 is not greater than 26232.358282143392. Delta is -13.452816356100811\n",
      "Model is not converging.  Current: 101963.63071218744 is not greater than 101964.23790756472. Delta is -0.6071953772770939\n",
      "Model is not converging.  Current: 64220.26507408956 is not greater than 64220.654664186535. Delta is -0.38959009697282454\n",
      "Model is not converging.  Current: 60516.21924779807 is not greater than 60529.02380676676. Delta is -12.80455896868807\n",
      "Model is not converging.  Current: 120763.77859081743 is not greater than 120767.91168468588. Delta is -4.133093868455035\n",
      "Model is not converging.  Current: 92374.75775605121 is not greater than 92374.8706235304. Delta is -0.11286747918347828\n",
      "Model is not converging.  Current: 35616.02612324347 is not greater than 35617.072082624705. Delta is -1.0459593812338426\n",
      "Model is not converging.  Current: 39416.76436595191 is not greater than 39417.61330330246. Delta is -0.8489373505508411\n",
      "Model is not converging.  Current: 252815.57920188303 is not greater than 252822.32450450517. Delta is -6.7453026221483015\n",
      "Model is not converging.  Current: 10226.12592666934 is not greater than 10236.3450168583. Delta is -10.219090188960763\n"
     ]
    }
   ],
   "source": [
    "# Process each group separately and concatenate results\n",
    "dfs = []\n",
    "for _, group in df.groupby('DeviceId'):\n",
    "    dfs.append(train_hmm_per_user(group))\n",
    "\n",
    "df = pd.concat(dfs).reset_index(drop=True)"
   ]
  },
  {
   "cell_type": "code",
   "execution_count": 8,
   "metadata": {},
   "outputs": [],
   "source": [
    "# Additional derived features\n",
    "df['TypingSpeed'] = 1 / (df['FlightTime'].replace(0, np.nan))\n",
    "df['KeySequenceChangeRate'] = df['HMM_HiddenState_TransitionCount'] / df.groupby('DeviceId')['HMM_HiddenState_TransitionCount'].transform('sum')\n",
    "\n",
    "df['InterKeyInterval_Mean'] = df.groupby('DeviceId')['FlightTime'].transform('mean')\n",
    "df['InterKeyInterval_Std'] = df.groupby('DeviceId')['FlightTime'].transform('std')\n",
    "df['Burstiness'] = df.groupby('DeviceId')['FlightTime'].transform(lambda x: (x.std() - x.mean()) / (x.std() + x.mean()))\n",
    "\n",
    "df['TransitionEntropy'] = df.groupby('DeviceId')['HMM_HiddenState'].transform(lambda x: -np.sum(np.bincount(x, minlength=4) / len(x) * np.log2(np.bincount(x, minlength=4) / len(x))))\n",
    "df['DominantHiddenState'] = df.groupby('DeviceId')['HMM_HiddenState'].transform(lambda x: np.bincount(x).argmax())\n",
    "\n",
    "df['TimeSinceLastKeyPress'] = df.groupby('DeviceId')['FlightTime'].transform(lambda x: x.shift(1).fillna(0).cumsum())\n",
    "df['AvgSessionLength'] = df.groupby('DeviceId')['FlightTime'].transform(lambda x: (x > 2 * x.mean()).cumsum().value_counts().mean())\n"
   ]
  },
  {
   "cell_type": "code",
   "execution_count": 9,
   "metadata": {},
   "outputs": [
    {
     "name": "stdout",
     "output_type": "stream",
     "text": [
      "Feature extraction complete. Saved to enhanced_dataset.csv\n"
     ]
    }
   ],
   "source": [
    "# Save enhanced dataset\n",
    "df.to_csv(\"enhanced_dataset.csv\", index=False)\n",
    "print(\"Feature extraction complete. Saved to enhanced_dataset.csv\")"
   ]
  },
  {
   "cell_type": "markdown",
   "metadata": {},
   "source": [
    "# Data Dictionary\n",
    "\n",
    "## Original Columns\n",
    "\n",
    "| Column Name      | Description |\n",
    "|-----------------|-------------|\n",
    "| **DeviceId** | Unique identifier for each user/device. |\n",
    "| **KeyPressed** | The key that was pressed by the user. |\n",
    "| **FlightTime** | Time taken between releasing one key and pressing the next (milliseconds). |\n",
    "| **KeyHoldTime** | Duration for which a key is held down before release (milliseconds). |\n",
    "\n",
    "## Derived Columns\n",
    "\n",
    "| Column Name | Description |\n",
    "|-------------|-------------|\n",
    "| **KeyEncoded** | Encoded numerical representation of `KeyPressed` using Label Encoding. |\n",
    "| **HMM_LogLikelihood_PerUser** | Log-likelihood of the trained HMM model per user, representing how well the model fits the user’s typing pattern. |\n",
    "| **HMM_HiddenState** | Hidden state assigned to each keystroke based on the trained HMM model. |\n",
    "| **HMM_HiddenState_TransitionCount** | Number of transitions between hidden states, indicating typing variability. |\n",
    "| **HMM_HiddenState_Duration** | Average duration (number of keystrokes) spent in a given hidden state before transitioning. |\n",
    "| **TypingSpeed** | Estimated typing speed, computed as `1 / FlightTime`. (Higher values indicate faster typing.) |\n",
    "| **KeySequenceChangeRate** | Ratio of hidden state transitions to the total transitions per user, capturing consistency in typing patterns. |\n",
    "| **InterKeyInterval_Mean** | Mean time interval between consecutive keystrokes per user. |\n",
    "| **InterKeyInterval_Std** | Standard deviation of inter-key intervals, indicating typing rhythm variability. |\n",
    "| **Burstiness** | A measure of irregularity in typing speed, computed using `(std - mean) / (std + mean)`. |\n",
    "| **TransitionEntropy** | Shannon entropy of state transitions, measuring typing pattern complexity. |\n",
    "| **DominantHiddenState** | Most frequently occurring hidden state for each user, indicating the most common typing pattern. |\n",
    "| **TimeSinceLastKeyPress** | Cumulative time elapsed since the last key press per user. |\n",
    "| **AvgSessionLength** | Estimated session length based on typing pauses (breaks longer than twice the mean `FlightTime` are considered session boundaries). |\n",
    "\n"
   ]
  }
 ],
 "metadata": {
  "kernelspec": {
   "display_name": "Python 3",
   "language": "python",
   "name": "python3"
  },
  "language_info": {
   "codemirror_mode": {
    "name": "ipython",
    "version": 3
   },
   "file_extension": ".py",
   "mimetype": "text/x-python",
   "name": "python",
   "nbconvert_exporter": "python",
   "pygments_lexer": "ipython3",
   "version": "3.12.7"
  }
 },
 "nbformat": 4,
 "nbformat_minor": 2
}
