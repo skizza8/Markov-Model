{
 "cells": [
  {
   "cell_type": "code",
   "execution_count": 1,
   "metadata": {},
   "outputs": [],
   "source": [
    "import pandas as pd\n",
    "import numpy as np\n",
    "from sklearn.preprocessing import LabelEncoder, StandardScaler\n",
    "from hmmlearn import hmm\n",
    "from sklearn.model_selection import train_test_split\n",
    "from sklearn.ensemble import RandomForestClassifier\n",
    "from sklearn.svm import SVC\n",
    "from sklearn.linear_model import LogisticRegression\n",
    "from sklearn.neural_network import MLPClassifier\n",
    "from sklearn.metrics import accuracy_score, classification_report\n",
    "import matplotlib.pyplot as plt\n",
    "import seaborn as sns"
   ]
  },
  {
   "cell_type": "code",
   "execution_count": 2,
   "metadata": {},
   "outputs": [],
   "source": [
    "# Step 1: Load the processed dataset\n",
    "df = pd.read_csv(\"enhanced_dataset.csv\")"
   ]
  },
  {
   "cell_type": "code",
   "execution_count": 5,
   "metadata": {},
   "outputs": [],
   "source": [
    "# Step 2: Split Data into Training and Testing Sets\n",
    "X = df[['FlightTime', 'KeyHoldTime', 'TypingSpeed', 'KeySequenceChangeRate',\n",
    "    'InterKeyInterval_Mean', 'InterKeyInterval_Std', 'Burstiness',\n",
    "    'TransitionEntropy', 'HMM_LogLikelihood_PerUser', 'HMM_HiddenState',\n",
    "    'HMM_HiddenState_TransitionCount', 'HMM_HiddenState_Duration',\n",
    "    'TimeSinceLastKeyPress', 'AvgSessionLength', 'KeyEncoded']]\n",
    "y = df['DeviceId']  # Assuming DeviceId represents unique users for authentication\n",
    "X_train, X_test, y_train, y_test = train_test_split(X, y, test_size=0.2, random_state=42)"
   ]
  },
  {
   "cell_type": "code",
   "execution_count": 6,
   "metadata": {},
   "outputs": [],
   "source": [
    "# Step 3: Train Multiple Machine Learning Models\n",
    "models = {\n",
    "    \"Logistic Regression\": LogisticRegression(max_iter=1000),\n",
    "    \"Random Forest\": RandomForestClassifier(n_estimators=100, random_state=42),\n",
    "    \"Support Vector Machine\": SVC(kernel='linear', probability=True),\n",
    "    \"Neural Network\": MLPClassifier(hidden_layer_sizes=(50,50), max_iter=500, random_state=42)\n",
    "}\n"
   ]
  },
  {
   "cell_type": "code",
   "execution_count": 7,
   "metadata": {},
   "outputs": [
    {
     "name": "stdout",
     "output_type": "stream",
     "text": [
      "Logistic Regression Accuracy: 1.0000\n",
      "              precision    recall  f1-score   support\n",
      "\n",
      "      6PREUN       1.00      1.00      1.00       992\n",
      "      7RHSM5       1.00      1.00      1.00       581\n",
      "\n",
      "    accuracy                           1.00      1573\n",
      "   macro avg       1.00      1.00      1.00      1573\n",
      "weighted avg       1.00      1.00      1.00      1573\n",
      "\n",
      "Random Forest Accuracy: 1.0000\n",
      "              precision    recall  f1-score   support\n",
      "\n",
      "      6PREUN       1.00      1.00      1.00       992\n",
      "      7RHSM5       1.00      1.00      1.00       581\n",
      "\n",
      "    accuracy                           1.00      1573\n",
      "   macro avg       1.00      1.00      1.00      1573\n",
      "weighted avg       1.00      1.00      1.00      1573\n",
      "\n",
      "Support Vector Machine Accuracy: 1.0000\n",
      "              precision    recall  f1-score   support\n",
      "\n",
      "      6PREUN       1.00      1.00      1.00       992\n",
      "      7RHSM5       1.00      1.00      1.00       581\n",
      "\n",
      "    accuracy                           1.00      1573\n",
      "   macro avg       1.00      1.00      1.00      1573\n",
      "weighted avg       1.00      1.00      1.00      1573\n",
      "\n",
      "Neural Network Accuracy: 0.9428\n",
      "              precision    recall  f1-score   support\n",
      "\n",
      "      6PREUN       0.92      1.00      0.96       992\n",
      "      7RHSM5       0.99      0.85      0.92       581\n",
      "\n",
      "    accuracy                           0.94      1573\n",
      "   macro avg       0.96      0.92      0.94      1573\n",
      "weighted avg       0.95      0.94      0.94      1573\n",
      "\n"
     ]
    }
   ],
   "source": [
    "results = {}\n",
    "\n",
    "for name, model in models.items():\n",
    "    model.fit(X_train, y_train)\n",
    "    y_pred = model.predict(X_test)\n",
    "    accuracy = accuracy_score(y_test, y_pred)\n",
    "    results[name] = accuracy\n",
    "    print(f\"{name} Accuracy: {accuracy:.4f}\")\n",
    "    print(classification_report(y_test, y_pred))"
   ]
  },
  {
   "cell_type": "code",
   "execution_count": 8,
   "metadata": {},
   "outputs": [
    {
     "name": "stdout",
     "output_type": "stream",
     "text": [
      "Model Comparison:\n",
      "{'Logistic Regression': 1.0, 'Random Forest': 1.0, 'Support Vector Machine': 1.0, 'Neural Network': 0.9427844882390337}\n"
     ]
    }
   ],
   "source": [
    "# Step 4: Display Model Comparison\n",
    "print(\"Model Comparison:\")\n",
    "print(results)"
   ]
  },
  {
   "cell_type": "code",
   "execution_count": 9,
   "metadata": {},
   "outputs": [
    {
     "data": {
      "image/png": "[encoded data removed]",
      "text/plain": [
       "<Figure size 1000x500 with 1 Axes>"
      ]
     },
     "metadata": {},
     "output_type": "display_data"
    }
   ],
   "source": [
    "# Step 5: Plot Model Performance\n",
    "plt.figure(figsize=(10, 5))\n",
    "sns.barplot(x=list(results.keys()), y=list(results.values()))\n",
    "plt.xlabel(\"Model\")\n",
    "plt.ylabel(\"Accuracy\")\n",
    "plt.title(\"Comparison of ML Models for Continuous Authentication\")\n",
    "plt.show()"
   ]
  }
 ],
 "metadata": {
  "kernelspec": {
   "display_name": "Python 3",
   "language": "python",
   "name": "python3"
  },
  "language_info": {
   "codemirror_mode": {
    "name": "ipython",
    "version": 3
   },
   "file_extension": ".py",
   "mimetype": "text/x-python",
   "name": "python",
   "nbconvert_exporter": "python",
   "pygments_lexer": "ipython3",
   "version": "3.12.7"
  }
 },
 "nbformat": 4,
 "nbformat_minor": 2
}
