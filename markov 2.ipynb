{
 "cells": [
  {
   "cell_type": "code",
   "execution_count": null,
   "metadata": {},
   "outputs": [],
   "source": [
    "import pandas as pd\n",
    "import numpy as np\n",
    "from sklearn.preprocessing import LabelEncoder, StandardScaler\n",
    "from hmmlearn import hmm\n",
    "import matplotlib.pyplot as plt\n",
    "import seaborn as sns"
   ]
  },
  {
   "cell_type": "code",
   "execution_count": null,
   "metadata": {},
   "outputs": [],
   "source": [
    "# Step 1: Load the dataset\n",
    "df = pd.read_excel(\"Data (7).xlsx\")"
   ]
  },
  {
   "cell_type": "code",
   "execution_count": null,
   "metadata": {},
   "outputs": [],
   "source": [
    "# Step 2: Preprocessing - Convert categorical variables to numerical\n",
    "label_encoders = {}\n",
    "categorical_columns = ['DeviceId']\n",
    "\n",
    "for col in categorical_columns:\n",
    "    le = LabelEncoder()\n",
    "    df[col] = le.fit_transform(df[col])\n",
    "    label_encoders[col] = le  # Store for inverse transformation later"
   ]
  },
  {
   "cell_type": "code",
   "execution_count": null,
   "metadata": {},
   "outputs": [],
   "source": [
    "# Step 3: Feature Engineering - Creating new inferred metrics\n",
    "df['Typing_Speed'] = 1 / (df['FlightTime'] + 1e-6)  # Avoid division by zero\n",
    "df['Fatigue_Index'] = df['KeyHoldTime'].rolling(window=5).mean()\n",
    "df['Cognitive_Load'] = df['FlightTime'].rolling(window=5).std()"
   ]
  },
  {
   "cell_type": "code",
   "execution_count": null,
   "metadata": {},
   "outputs": [],
   "source": [
    "df.head()"
   ]
  },
  {
   "cell_type": "code",
   "execution_count": null,
   "metadata": {},
   "outputs": [],
   "source": [
    "# Fill NaN values caused by rolling operations\n",
    "df.fillna(method='bfill', inplace=True)  # Backward fill to handle missing values"
   ]
  },
  {
   "cell_type": "code",
   "execution_count": null,
   "metadata": {},
   "outputs": [],
   "source": [
    "df.head()"
   ]
  },
  {
   "cell_type": "code",
   "execution_count": null,
   "metadata": {},
   "outputs": [],
   "source": [
    "# Step 4: Train Hidden Markov Model for hidden variable classification\n",
    "n_states = 3  # Defining three states per hidden variable\n",
    "hidden_vars = ['Typing_Speed', 'Cognitive_Load', 'Fatigue_Index']\n",
    "\n",
    "for var in hidden_vars:\n",
    "    model = hmm.GaussianHMM(n_components=n_states, covariance_type=\"diag\", n_iter=1000, random_state=42)\n",
    "    model.fit(df[[var]])  # Fit HMM model\n",
    "    df[var + '_HMM'] = model.predict(df[[var]])  # Predict hidden states"
   ]
  },
  {
   "cell_type": "code",
   "execution_count": null,
   "metadata": {},
   "outputs": [],
   "source": [
    "# Step 5: Scale numerical columns\n",
    "scaler = StandardScaler()\n",
    "numerical_columns = ['Typing_Speed', 'Fatigue_Index', 'Cognitive_Load']\n",
    "df[numerical_columns] = scaler.fit_transform(df[numerical_columns])"
   ]
  },
  {
   "cell_type": "code",
   "execution_count": null,
   "metadata": {},
   "outputs": [],
   "source": [
    "# Step 6: Save the cleaned dataset\n",
    "df.to_csv(\"processed_dataset.csv\", index=False)"
   ]
  },
  {
   "cell_type": "code",
   "execution_count": null,
   "metadata": {},
   "outputs": [],
   "source": [
    "# Step 7: Generate Key Table for Hidden States Interpretation\n",
    "state_interpretation = {\n",
    "    \"Typing_Speed_HMM\": {0: \"Slow\", 1: \"Moderate\", 2: \"Fast\"},\n",
    "    \"Cognitive_Load_HMM\": {0: \"Low\", 1: \"Medium\", 2: \"High\"},\n",
    "    \"Fatigue_Index_HMM\": {0: \"Fresh\", 1: \"Slightly Fatigued\", 2: \"Highly Fatigued\"}\n",
    "}"
   ]
  },
  {
   "cell_type": "code",
   "execution_count": null,
   "metadata": {},
   "outputs": [],
   "source": [
    "# Display sample of the dataset\n",
    "df.head()"
   ]
  }
 ],
 "metadata": {
  "kernelspec": {
   "display_name": "Python 3",
   "language": "python",
   "name": "python3"
  },
  "language_info": {
   "codemirror_mode": {
    "name": "ipython",
    "version": 3
   },
   "file_extension": ".py",
   "mimetype": "text/x-python",
   "name": "python",
   "nbconvert_exporter": "python",
   "pygments_lexer": "ipython3",
   "version": "3.12.7"
  }
 },
 "nbformat": 4,
 "nbformat_minor": 2
}
